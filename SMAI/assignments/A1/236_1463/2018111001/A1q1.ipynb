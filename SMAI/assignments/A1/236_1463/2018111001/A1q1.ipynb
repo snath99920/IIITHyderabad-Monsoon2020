{
  "nbformat": 4,
  "nbformat_minor": 0,
  "metadata": {
    "colab": {
      "name": "A1q1.ipynb",
      "provenance": [],
      "collapsed_sections": []
    },
    "kernelspec": {
      "name": "python3",
      "display_name": "Python 3"
    }
  },
  "cells": [
    {
      "cell_type": "code",
      "metadata": {
        "id": "FyI8H8j7rvXF",
        "colab_type": "code",
        "colab": {}
      },
      "source": [
        "import numpy as np\n",
        "import math"
      ],
      "execution_count": 16,
      "outputs": []
    },
    {
      "cell_type": "code",
      "metadata": {
        "id": "2SDdhmdTszYh",
        "colab_type": "code",
        "colab": {
          "base_uri": "https://localhost:8080/",
          "height": 85
        },
        "outputId": "c984ddb9-24b0-4dc4-dfd8-d90ae36c0788"
      },
      "source": [
        "# Getting the coordinates of the end point of the line\n",
        "x0=int(input())\n",
        "y0=int(input())\n",
        "x1=int(input())\n",
        "y1=int(input())"
      ],
      "execution_count": 20,
      "outputs": [
        {
          "output_type": "stream",
          "text": [
            "2\n",
            "0\n",
            "0\n",
            "2\n"
          ],
          "name": "stdout"
        }
      ]
    },
    {
      "cell_type": "code",
      "metadata": {
        "id": "Hy5Liu_jtCBU",
        "colab_type": "code",
        "colab": {}
      },
      "source": [
        "# The points are stored as numpy matrices\n",
        "p0=np.array([x0,y0])\n",
        "p1=np.array([x1,y1])"
      ],
      "execution_count": 21,
      "outputs": []
    },
    {
      "cell_type": "code",
      "metadata": {
        "id": "wo90b-nMuEwY",
        "colab_type": "code",
        "colab": {
          "base_uri": "https://localhost:8080/",
          "height": 51
        },
        "outputId": "74a37c92-5738-413d-c6bc-1d0ba1b9980c"
      },
      "source": [
        "# Geting the new point\n",
        "x=int(input())\n",
        "y=int(input())"
      ],
      "execution_count": 22,
      "outputs": [
        {
          "output_type": "stream",
          "text": [
            "0\n",
            "0\n"
          ],
          "name": "stdout"
        }
      ]
    },
    {
      "cell_type": "code",
      "metadata": {
        "id": "HhF7kpU-uUQE",
        "colab_type": "code",
        "colab": {}
      },
      "source": [
        "p=np.array([x,y])"
      ],
      "execution_count": 23,
      "outputs": []
    },
    {
      "cell_type": "code",
      "metadata": {
        "id": "ZYVIg0a4u25T",
        "colab_type": "code",
        "colab": {}
      },
      "source": [
        "# Calculating distance\n",
        "d=np.cross(p1-p0, p-p0)/np.linalg.norm(p1-p0)"
      ],
      "execution_count": 24,
      "outputs": []
    },
    {
      "cell_type": "code",
      "metadata": {
        "id": "sWNxTJn6vX2x",
        "colab_type": "code",
        "colab": {
          "base_uri": "https://localhost:8080/",
          "height": 34
        },
        "outputId": "cd6aec91-02df-4ba1-bec1-53921525f86e"
      },
      "source": [
        "print(\"The distance between the line and the point is:\", abs(d))"
      ],
      "execution_count": 25,
      "outputs": [
        {
          "output_type": "stream",
          "text": [
            "The distance between the line and the point is: 1.414213562373095\n"
          ],
          "name": "stdout"
        }
      ]
    }
  ]
}