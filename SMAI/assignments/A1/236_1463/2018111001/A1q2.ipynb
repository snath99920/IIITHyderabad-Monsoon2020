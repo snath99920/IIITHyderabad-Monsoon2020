{
  "nbformat": 4,
  "nbformat_minor": 0,
  "metadata": {
    "colab": {
      "name": "A1q2.ipynb",
      "provenance": [],
      "collapsed_sections": []
    },
    "kernelspec": {
      "name": "python3",
      "display_name": "Python 3"
    }
  },
  "cells": [
    {
      "cell_type": "code",
      "metadata": {
        "id": "Obu-zKc0zMHX",
        "colab_type": "code",
        "colab": {}
      },
      "source": [
        "import numpy as np\n",
        "import math\n",
        "import matplotlib.pyplot as plt"
      ],
      "execution_count": 12,
      "outputs": []
    },
    {
      "cell_type": "code",
      "metadata": {
        "id": "Yw8kWzInBI9u",
        "colab_type": "code",
        "colab": {}
      },
      "source": [
        "def get_foot(p, a, b):\n",
        "    ap = p - a\n",
        "    ab = b - a\n",
        "    result = a + np.dot(ap, ab)/np.dot(ab, ab) * ab\n",
        "    return result"
      ],
      "execution_count": 13,
      "outputs": []
    },
    {
      "cell_type": "code",
      "metadata": {
        "id": "TsXmJWZo38XR",
        "colab_type": "code",
        "colab": {
          "base_uri": "https://localhost:8080/",
          "height": 85
        },
        "outputId": "40abe306-bdef-4624-9708-3a0cc660f78e"
      },
      "source": [
        "x0=int(input())\n",
        "y0=int(input())\n",
        "x1=int(input())\n",
        "y1=int(input())"
      ],
      "execution_count": 24,
      "outputs": [
        {
          "output_type": "stream",
          "text": [
            "4\n",
            "1\n",
            "8\n",
            "1\n"
          ],
          "name": "stdout"
        }
      ]
    },
    {
      "cell_type": "code",
      "metadata": {
        "id": "WRebhDQs4IFQ",
        "colab_type": "code",
        "colab": {}
      },
      "source": [
        "p0=np.array([x0,y0])\n",
        "p1=np.array([x1,y1])"
      ],
      "execution_count": 25,
      "outputs": []
    },
    {
      "cell_type": "code",
      "metadata": {
        "id": "mc9dYSl_4Qfn",
        "colab_type": "code",
        "colab": {
          "base_uri": "https://localhost:8080/",
          "height": 51
        },
        "outputId": "c6d02d75-6348-44fc-8efc-ae092370457f"
      },
      "source": [
        "x=int(input())\n",
        "y=int(input())\n",
        "p=np.array([x,y])"
      ],
      "execution_count": 26,
      "outputs": [
        {
          "output_type": "stream",
          "text": [
            "-1\n",
            "8\n"
          ],
          "name": "stdout"
        }
      ]
    },
    {
      "cell_type": "code",
      "metadata": {
        "id": "lT-vtMU3BLQ2",
        "colab_type": "code",
        "colab": {
          "base_uri": "https://localhost:8080/",
          "height": 34
        },
        "outputId": "c6aa5d0b-2c8f-49a3-f992-ef67b02df03c"
      },
      "source": [
        "foot=get_foot(p, p0, p1)\n",
        "print(foot)"
      ],
      "execution_count": 28,
      "outputs": [
        {
          "output_type": "stream",
          "text": [
            "[-1.  1.]\n"
          ],
          "name": "stdout"
        }
      ]
    },
    {
      "cell_type": "code",
      "metadata": {
        "id": "5plAp4NqBf6t",
        "colab_type": "code",
        "colab": {
          "base_uri": "https://localhost:8080/",
          "height": 265
        },
        "outputId": "90a9ae79-ba11-4be3-e135-8e2a35df517a"
      },
      "source": [
        "if (x<x0 and x<x1):\n",
        "  plt.plot([foot[0], x0], [foot[1], y0], '--g')\n",
        "  plt.plot([foot[0],p[0]], [foot[1], p[1]], linestyle='--')\n",
        "  plt.plot([p0[0], p1[0]], [p0[1], p1[1]], '-g')\n",
        "  plt.plot(p[0], p[1], 'ro')\n",
        "  plt.show()\n",
        "\n",
        "elif x>x1 and x>x0:\n",
        "  plt.plot([foot[0], x1], [foot[1], y1], '--g')\n",
        "  plt.plot([foot[0],p[0]], [foot[1], p[1]], linestyle='--')\n",
        "  plt.plot([p0[0], p1[0]], [p0[1], p1[1]], '-g')\n",
        "  plt.plot(p[0], p[1], 'ro')\n",
        "  plt.show()\n",
        "\n",
        "else:\n",
        "  plt.plot([foot[0],p[0]], [foot[1], p[1]], '--')\n",
        "  plt.plot([p0[0], p1[0]], [p0[1], p1[1]], '-g')\n",
        "  plt.plot(p[0], p[1], 'ro')\n",
        "  plt.show()"
      ],
      "execution_count": 33,
      "outputs": [
        {
          "output_type": "display_data",
          "data": {
            "image/png": "[encoded data removed]",
            "text/plain": [
              "<Figure size 432x288 with 1 Axes>"
            ]
          },
          "metadata": {
            "tags": [],
            "needs_background": "light"
          }
        }
      ]
    }
  ]
}