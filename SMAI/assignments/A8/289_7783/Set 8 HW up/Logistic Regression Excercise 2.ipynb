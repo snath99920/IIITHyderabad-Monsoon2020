{
 "cells": [
  {
   "cell_type": "markdown",
   "metadata": {
    "colab_type": "text",
    "id": "qwGWNHs2xIsx"
   },
   "source": [
    "# Logistic Regression Excercise 2"
   ]
  },
  {
   "cell_type": "markdown",
   "metadata": {
    "colab_type": "text",
    "id": "qcaBeePgu_Tu"
   },
   "source": [
    "## Multi-class classification of MNIST using Logistic Regression\n",
    "\n",
    "The multi-class scenario for logistic regression is quite similar to the binary case, except that the label $y$ is now an integer in {1, ...., K} where $K$ is the number of classes. In this excercise you will be provided with handwritten digit images. Write the code and compute the test accuracy by training a logistic regression based classifier in (i) one-vs-one, and (ii) one-vs-all setting."
   ]
  },
  {
   "cell_type": "code",
   "execution_count": 1,
   "metadata": {},
   "outputs": [
    {
     "name": "stdout",
     "output_type": "stream",
     "text": [
      "running importer\n"
     ]
    }
   ],
   "source": [
    "import io, os, sys, types\n",
    "from IPython import get_ipython\n",
    "from nbformat import read\n",
    "from IPython.core.interactiveshell import InteractiveShell\n",
    "\n",
    "def find_notebook(fullname, path=None):\n",
    "    \"\"\"find a notebook, given its fully qualified name and an optional path\n",
    "\n",
    "    This turns \"foo.bar\" into \"foo/bar.ipynb\"\n",
    "    and tries turning \"Foo_Bar\" into \"Foo Bar\" if Foo_Bar\n",
    "    does not exist.\n",
    "    \"\"\"\n",
    "    name = fullname.rsplit('.', 1)[-1]\n",
    "    if not path:\n",
    "        path = ['']\n",
    "    for d in path:\n",
    "        nb_path = os.path.join(d, name + \".ipynb\")\n",
    "        #print('searching: %s'%nb_path)\n",
    "        if os.path.isfile(nb_path):\n",
    "            return nb_path\n",
    "        # let import Notebook_Name find \"Notebook Name.ipynb\"\n",
    "        nb_path = nb_path.replace(\"_\", \" \")\n",
    "        #print('searching: %s' % nb_path)\n",
    "        if os.path.isfile(nb_path):\n",
    "            return nb_path\n",
    "\n",
    "class NotebookLoader(object):\n",
    "    \"\"\"Module Loader for Jupyter Notebooks\"\"\"\n",
    "    def __init__(self, path=None):\n",
    "        self.shell = InteractiveShell.instance()\n",
    "        self.path = path\n",
    "\n",
    "    def load_module(self, fullname):\n",
    "        \"\"\"import a notebook as a module\"\"\"\n",
    "        path = find_notebook(fullname, self.path)\n",
    "\n",
    "        print (\"importing Jupyter notebook from %s\" % path)\n",
    "\n",
    "        # load the notebook object\n",
    "        with io.open(path, 'r', encoding='utf-8') as f:\n",
    "            nb = read(f, 4)\n",
    "\n",
    "\n",
    "        # create the module and add it to sys.modules\n",
    "        # if name in sys.modules:\n",
    "        #    return sys.modules[name]\n",
    "        mod = types.ModuleType(fullname)\n",
    "        mod.__file__ = path\n",
    "        mod.__loader__ = self\n",
    "        mod.__dict__['get_ipython'] = get_ipython\n",
    "        sys.modules[fullname] = mod\n",
    "\n",
    "        # extra work to ensure that magics that would affect the user_ns\n",
    "        # actually affect the notebook module's ns\n",
    "        save_user_ns = self.shell.user_ns\n",
    "        self.shell.user_ns = mod.__dict__\n",
    "\n",
    "        #print('Found %d cells'%len(nb.cells))\n",
    "        try:\n",
    "          for cell in nb.cells:\n",
    "            if cell.cell_type == 'code':\n",
    "                # transform the input to executable Python\n",
    "                code = self.shell.input_transformer_manager.transform_cell(cell.source)\n",
    "                # run the code in themodule\n",
    "                exec(code, mod.__dict__)\n",
    "        finally:\n",
    "            self.shell.user_ns = save_user_ns\n",
    "        return mod\n",
    "\n",
    "class NotebookFinder(object):\n",
    "    \"\"\"Module finder that locates Jupyter Notebooks\"\"\"\n",
    "    def __init__(self):\n",
    "        self.loaders = {}\n",
    "\n",
    "    def find_module(self, fullname, path=None):\n",
    "        nb_path = find_notebook(fullname, path)\n",
    "        if not nb_path:\n",
    "            return\n",
    "\n",
    "        key = path\n",
    "        if path:\n",
    "            # lists aren't hashable\n",
    "            key = os.path.sep.join(path)\n",
    "\n",
    "        if key not in self.loaders:\n",
    "            self.loaders[key] = NotebookLoader(path)\n",
    "        return self.loaders[key]\n",
    "\n",
    "\n",
    "#  register the NotebookFinder with sys.meta_path\n",
    "print('running importer')\n",
    "sys.meta_path.append(NotebookFinder())"
   ]
  },
  {
   "cell_type": "code",
   "execution_count": 2,
   "metadata": {
    "colab": {
     "base_uri": "https://localhost:8080/",
     "height": 87
    },
    "colab_type": "code",
    "executionInfo": {
     "elapsed": 9944,
     "status": "ok",
     "timestamp": 1596983406360,
     "user": {
      "displayName": "KARTIK RISHI BHARADWAJ 14BEE0070",
      "photoUrl": "",
      "userId": "12368401133146776355"
     },
     "user_tz": -330
    },
    "id": "ManRVu7IsIjp",
    "outputId": "b48dd937-f2d5-4762-af1a-44fa03c44d3f"
   },
   "outputs": [
    {
     "name": "stdout",
     "output_type": "stream",
     "text": [
      "importing Jupyter notebook from utils.ipynb\n"
     ]
    }
   ],
   "source": [
    "from sklearn import datasets\n",
    "from sklearn.datasets import fetch_openml\n",
    "from sklearn.datasets import make_classification\n",
    "from sklearn.model_selection import train_test_split\n",
    "import matplotlib.pyplot as plt\n",
    "import numpy as np\n",
    "import seaborn as sns; sns.set();\n",
    "import pandas as pd\n",
    "from utils import plot_decision_boundary, get_accuracy, get_prediction\n",
    "from utils import plot_2D_input_datapoints, generate_gifs, sigmoid, normalize\n",
    "import math\n",
    "import gif\n",
    "from tqdm import tqdm\n",
    "import warnings\n",
    "warnings.filterwarnings('ignore')"
   ]
  },
  {
   "cell_type": "code",
   "execution_count": 3,
   "metadata": {
    "colab": {},
    "colab_type": "code",
    "executionInfo": {
     "elapsed": 9918,
     "status": "ok",
     "timestamp": 1596983406361,
     "user": {
      "displayName": "KARTIK RISHI BHARADWAJ 14BEE0070",
      "photoUrl": "",
      "userId": "12368401133146776355"
     },
     "user_tz": -330
    },
    "id": "xbV2U06Cs45b"
   },
   "outputs": [],
   "source": [
    "# Let's initialize our weights using uniform distribution\n",
    "def weight_init_uniform_dist(X, y):\n",
    "  \n",
    "    np.random.seed(312)\n",
    "    n_samples, n_features = np.shape(X)\n",
    "    _, n_outputs = np.shape(y)\n",
    "\n",
    "    limit = 1 / math.sqrt(n_features)\n",
    "    weights = np.random.uniform(-limit, limit, (n_features, n_outputs))\n",
    "    weights[-1] = 0\n",
    "\n",
    "    return weights"
   ]
  },
  {
   "cell_type": "code",
   "execution_count": 4,
   "metadata": {
    "colab": {},
    "colab_type": "code",
    "executionInfo": {
     "elapsed": 36195,
     "status": "ok",
     "timestamp": 1596983432936,
     "user": {
      "displayName": "KARTIK RISHI BHARADWAJ 14BEE0070",
      "photoUrl": "",
      "userId": "12368401133146776355"
     },
     "user_tz": -330
    },
    "id": "SAAbK03fLCR1"
   },
   "outputs": [],
   "source": [
    "np.random.seed(12)\n",
    "\n",
    "# One hot encoding of our output label vector y\n",
    "def one_hot(a):\n",
    "    b = np.zeros((a.size, a.max()+1))\n",
    "    b[np.arange(a.size), a] = 1\n",
    "    return b\n",
    "\n",
    "# Loading dataset\n",
    "digits = datasets.load_digits()\n",
    "\n",
    "# One-hot encoding of target label, Y\n",
    "Y = digits.target\n",
    "Y = Y.reshape((-1,1))\n",
    "#Y = one_hot(Y)\n",
    "\n",
    "# Absorbing weight b of the hyperplane\n",
    "X = digits.data\n",
    "b_ones = np.ones((len(X), 1))\n",
    "X = np.hstack((X, b_ones))"
   ]
  },
  {
   "cell_type": "code",
   "execution_count": 5,
   "metadata": {
    "colab": {
     "base_uri": "https://localhost:8080/",
     "height": 292
    },
    "colab_type": "code",
    "executionInfo": {
     "elapsed": 36177,
     "status": "ok",
     "timestamp": 1596983432939,
     "user": {
      "displayName": "KARTIK RISHI BHARADWAJ 14BEE0070",
      "photoUrl": "",
      "userId": "12368401133146776355"
     },
     "user_tz": -330
    },
    "id": "yzdjTbEYLvPK",
    "outputId": "76ed5c87-3298-433d-cf76-d68026c46342"
   },
   "outputs": [
    {
     "data": {
      "text/plain": [
       "<Figure size 432x288 with 0 Axes>"
      ]
     },
     "metadata": {},
     "output_type": "display_data"
    },
    {
     "data": {
      "image/png": "[encoded data removed]",
      "text/plain": [
       "<Figure size 288x288 with 1 Axes>"
      ]
     },
     "metadata": {
      "needs_background": "light"
     },
     "output_type": "display_data"
    }
   ],
   "source": [
    "sns.reset_orig()\n",
    "\n",
    "plt.gray()\n",
    "plt.matshow(digits.images[10])\n",
    "plt.show();"
   ]
  },
  {
   "cell_type": "code",
   "execution_count": 6,
   "metadata": {
    "colab": {
     "base_uri": "https://localhost:8080/",
     "height": 67
    },
    "colab_type": "code",
    "executionInfo": {
     "elapsed": 36148,
     "status": "ok",
     "timestamp": 1596983432942,
     "user": {
      "displayName": "KARTIK RISHI BHARADWAJ 14BEE0070",
      "photoUrl": "",
      "userId": "12368401133146776355"
     },
     "user_tz": -330
    },
    "id": "3CIYTv4x65As",
    "outputId": "d9f59ee0-8392-4ba9-8cb8-11afc1669fb5"
   },
   "outputs": [
    {
     "name": "stdout",
     "output_type": "stream",
     "text": [
      "Training dataset:  (1308, 65)\n",
      "Validation dataset:  (188, 65)\n",
      "Test dataset:  (301, 65)\n"
     ]
    }
   ],
   "source": [
    "# Splitting dataset into train, val, and test set.\n",
    "\n",
    "X_train_val, X_test, Y_train_val, Y_test = train_test_split(X, Y, shuffle=True, test_size = 0.167)\n",
    "X_train, X_val, Y_train, Y_val = train_test_split(X_train_val, Y_train_val, test_size = 0.12517)\n",
    "\n",
    "print(\"Training dataset: \", X_train.shape)\n",
    "#print(\"Training dataset: \", Y_train.shape)\n",
    "print(\"Validation dataset: \", X_val.shape)\n",
    "print(\"Test dataset: \", X_test.shape)"
   ]
  },
  {
   "cell_type": "code",
   "execution_count": 7,
   "metadata": {
    "colab": {},
    "colab_type": "code",
    "executionInfo": {
     "elapsed": 36132,
     "status": "ok",
     "timestamp": 1596983432945,
     "user": {
      "displayName": "KARTIK RISHI BHARADWAJ 14BEE0070",
      "photoUrl": "",
      "userId": "12368401133146776355"
     },
     "user_tz": -330
    },
    "id": "d3NzkO4s68RX"
   },
   "outputs": [],
   "source": [
    "# Normalizing X_train and absorbing weight b of the hyperplane\n",
    "X_normalized_train = normalize(X_train[:, :64])\n",
    "\n",
    "b_ones = np.ones((len(X_normalized_train), 1))\n",
    "X_normalized_train = np.hstack((X_normalized_train, b_ones))"
   ]
  },
  {
   "cell_type": "code",
   "execution_count": 8,
   "metadata": {
    "colab": {
     "base_uri": "https://localhost:8080/",
     "height": 34
    },
    "colab_type": "code",
    "executionInfo": {
     "elapsed": 36096,
     "status": "ok",
     "timestamp": 1596983432947,
     "user": {
      "displayName": "KARTIK RISHI BHARADWAJ 14BEE0070",
      "photoUrl": "",
      "userId": "12368401133146776355"
     },
     "user_tz": -330
    },
    "id": "pYrK4fK3iyyk",
    "outputId": "a73d5605-db30-4099-f72e-9cca8e2fe3cf"
   },
   "outputs": [
    {
     "data": {
      "text/plain": [
       "(1308, 65)"
      ]
     },
     "execution_count": 8,
     "metadata": {},
     "output_type": "execute_result"
    }
   ],
   "source": [
    "X_normalized_train.shape"
   ]
  },
  {
   "cell_type": "markdown",
   "metadata": {},
   "source": [
    "### Write your code below"
   ]
  },
  {
   "cell_type": "code",
   "execution_count": 9,
   "metadata": {},
   "outputs": [],
   "source": [
    "def train_one_vs_all(X_train, Y_train, base_weights, num_epochs=1000, learning_rate=0.1):\n",
    "\n",
    "    n_samples, n_features = np.shape(X_train)\n",
    "    _, n_outputs = np.shape(Y)\n",
    "\n",
    "    history_weights = []\n",
    "    weights_k_classes = []\n",
    "    epoch = 1\n",
    "\n",
    "    classes = np.unique(Y_train)\n",
    "\n",
    "    # Training using Batch GD\n",
    "    for k in classes:\n",
    "        # one-vs-all binary classifier\n",
    "        binary_y_train = np.where(Y_train == k, 1, 0)\n",
    "\n",
    "        weights = base_weights\n",
    "\n",
    "        for epoch in range(1, num_epochs+1):\n",
    "    \n",
    "            # Computing weighted inputs and predicting output\n",
    "            w_transpose_x = np.dot(X_train, weights)\n",
    "            y_pred = sigmoid(w_transpose_x)\n",
    "\n",
    "            # Calculating gradient and updating weights\n",
    "            gradient = 1 * np.dot(X_train.T, (binary_y_train - y_pred))\n",
    "            weights += (learning_rate/n_samples) * gradient\n",
    "            weights = np.round(weights, decimals=7)\n",
    "\n",
    "            #weights_k_classes.append(weights)\n",
    "            epoch += 1\n",
    " \n",
    "        #history_weights.append(weights_k_classes)\n",
    "        history_weights.append(weights)\n",
    "        #weights_k_classes = []\n",
    "\n",
    "    print(\"Training complete\")\n",
    "    return history_weights"
   ]
  },
  {
   "cell_type": "code",
   "execution_count": 10,
   "metadata": {},
   "outputs": [],
   "source": [
    "# Initializing weights from uniform distribution\n",
    "weights = weight_init_uniform_dist(X_normalized_train, Y_train)"
   ]
  },
  {
   "cell_type": "code",
   "execution_count": 11,
   "metadata": {},
   "outputs": [
    {
     "name": "stdout",
     "output_type": "stream",
     "text": [
      "Training complete\n"
     ]
    }
   ],
   "source": [
    "trained_weights = train_one_vs_all(X_normalized_train, Y_train, weights, num_epochs=1000, learning_rate=0.1)"
   ]
  },
  {
   "cell_type": "code",
   "execution_count": 12,
   "metadata": {},
   "outputs": [],
   "source": [
    "# Compute the accuracy of training data and validation data\n",
    "def predict_one_vs_all(trained_weights, X_input, Y_input):\n",
    "  \n",
    "    num_classes = len(np.unique(Y_input))\n",
    "    scores = np.zeros((num_classes, (X_input.shape)[0]))\n",
    "\n",
    "    for k in range(num_classes):\n",
    "    \n",
    "        binary_y_input = np.where(Y_input == k, 1, 0)\n",
    "\n",
    "        w_transpose_x = np.dot(X_input, trained_weights[k])\n",
    "        y_pred = sigmoid(w_transpose_x)\n",
    "        y_pred = y_pred.reshape((-1,))\n",
    "        scores[k, :] = y_pred\n",
    "\n",
    "    pred_X = np.argmax(scores, axis=0)\n",
    "    return pred_X"
   ]
  },
  {
   "cell_type": "code",
   "execution_count": 13,
   "metadata": {},
   "outputs": [
    {
     "name": "stdout",
     "output_type": "stream",
     "text": [
      "Training dataset accuracy: 0.901376\n",
      "Validation dataset accuracy: 0.888298\n",
      "Test datast accuracy: 0.890365\n"
     ]
    }
   ],
   "source": [
    "pred_train_one_vs_all = predict_one_vs_all(trained_weights, X_train, Y_train)\n",
    "pred_val_one_vs_all = predict_one_vs_all(trained_weights, X_val, Y_val)\n",
    "pred_test_one_vs_all = predict_one_vs_all(trained_weights, X_test, Y_test)\n",
    "\n",
    "pred_train_one_vs_all = pred_train_one_vs_all.reshape((-1, 1))\n",
    "pred_val_one_vs_all = pred_val_one_vs_all.reshape((-1, 1))\n",
    "pred_test_one_vs_all = pred_test_one_vs_all.reshape((-1, 1))\n",
    "\n",
    "print('Training dataset accuracy: %f' % (np.mean(Y_train == pred_train_one_vs_all)))\n",
    "print('Validation dataset accuracy: %f' % (np.mean(Y_val == pred_val_one_vs_all)))\n",
    "print('Test datast accuracy: %f' % (np.mean(Y_test == pred_test_one_vs_all)))"
   ]
  },
  {
   "cell_type": "code",
   "execution_count": 18,
   "metadata": {},
   "outputs": [],
   "source": [
    "def train_one_vs_one(X_train, Y_train, base_weights, num_epochs=1000, learning_rate=0.1):\n",
    "\n",
    "    n_samples, n_features = np.shape(X_train)\n",
    "    _, n_outputs = np.shape(Y)\n",
    "\n",
    "    classes = np.unique(Y_train)\n",
    "    \n",
    "\n",
    "    # Training using Batch GD\n",
    "    history_weights = []\n",
    "    \n",
    "    \n",
    "    for k1 in classes:\n",
    "    \n",
    "        weights_k_classes = []\n",
    "        for k2 in classes:\n",
    "            # one-vs-one binary classifier\n",
    "\n",
    "            if k1>=k2:\n",
    "                weights_k_classes.append(base_weights*0)\n",
    "                continue\n",
    "            \n",
    "            binary_y_train  = np.where(Y_train == k1, 1, 0)\n",
    "            binary_y_train += np.where(Y_train == k2, -1, 0)\n",
    "            \n",
    "            byt = []; Xt = []\n",
    "            for it in range(n_samples):\n",
    "                if binary_y_train[it] != 0:\n",
    "                    byt.append(binary_y_train[it]+1>>1)\n",
    "                    Xt.append(X_train[it])\n",
    "            \n",
    "            binary_y_train = np.asarray(byt)\n",
    "            X_train1 = np.asarray(Xt)\n",
    "            \n",
    "            weights = base_weights\n",
    "\n",
    "            for epoch in range(1, num_epochs+1):\n",
    "    \n",
    "                # Computing weighted inputs and predicting output\n",
    "                w_transpose_x = np.dot(X_train1, weights)\n",
    "                y_pred = sigmoid(w_transpose_x)\n",
    "\n",
    "                # Calculating gradient and updating weights\n",
    "                gradient = 1 * np.dot(X_train1.T, (binary_y_train - y_pred))\n",
    "                weights += (learning_rate/n_samples) * gradient\n",
    "                weights = np.round(weights, decimals=7)\n",
    "\n",
    "                epoch += 1\n",
    "\n",
    "            weights_k_classes.append(weights)\n",
    "        history_weights.append(weights_k_classes)\n",
    "\n",
    "    print(\"Training complete\")\n",
    "    return history_weights"
   ]
  },
  {
   "cell_type": "code",
   "execution_count": 20,
   "metadata": {},
   "outputs": [
    {
     "name": "stdout",
     "output_type": "stream",
     "text": [
      "Training complete\n"
     ]
    }
   ],
   "source": [
    "trained_weights = train_one_vs_one(X_train, Y_train, weights, num_epochs=1000, learning_rate=0.1)"
   ]
  },
  {
   "cell_type": "code",
   "execution_count": 24,
   "metadata": {},
   "outputs": [],
   "source": [
    "# Compute the accuracy of training data and validation data\n",
    "def predict_one_vs_one(trained_weights, X_input, Y_input):\n",
    "  \n",
    "    num_classes = len(np.unique(Y_input))\n",
    "    scores = np.zeros((num_classes , (X_input.shape)[0]))\n",
    "\n",
    "    for k1 in range(0, num_classes):\n",
    "        for k in range(0, num_classes):\n",
    "    \n",
    "            if k1 >= k:\n",
    "                continue\n",
    "            \n",
    "            binary_y_input = np.where(Y_input == k1, 1, 0)\n",
    "\n",
    "            w_transpose_x = np.dot(X_input, trained_weights[k1][k])\n",
    "            y_pred = sigmoid(w_transpose_x)\n",
    "            y_pred = y_pred.reshape((-1,))\n",
    "            y_pred = (2 * y_pred) - 1\n",
    "            \n",
    "            scores[k1, :] += np.sign(y_pred)\n",
    "            scores[k, :] -= np.sign(y_pred)\n",
    "    \n",
    "    pred_X = np.argmax(scores, axis=0)\n",
    "    return pred_X"
   ]
  },
  {
   "cell_type": "code",
   "execution_count": 25,
   "metadata": {},
   "outputs": [
    {
     "name": "stdout",
     "output_type": "stream",
     "text": [
      "Training dataset accuracy: 1.000000\n",
      "Validation dataset accuracy: 0.973404\n",
      "Test datast accuracy: 0.966777\n"
     ]
    }
   ],
   "source": [
    "pred_train_one_vs_one = predict_one_vs_one(trained_weights, X_train, Y_train)\n",
    "pred_val_one_vs_one = predict_one_vs_one(trained_weights, X_val, Y_val)\n",
    "pred_test_one_vs_one = predict_one_vs_one(trained_weights, X_test, Y_test)\n",
    "\n",
    "pred_train_one_vs_one = pred_train_one_vs_one.reshape((-1, 1))\n",
    "pred_val_one_vs_one = pred_val_one_vs_one.reshape((-1, 1))\n",
    "pred_test_one_vs_one = pred_test_one_vs_one.reshape((-1, 1))\n",
    "\n",
    "print('Training dataset accuracy: %f' % (np.mean(Y_train == pred_train_one_vs_one)))\n",
    "print('Validation dataset accuracy: %f' % (np.mean(Y_val == pred_val_one_vs_one)))\n",
    "print('Test datast accuracy: %f' % (np.mean(Y_test == pred_test_one_vs_one)))"
   ]
  }
 ],
 "metadata": {
  "colab": {
   "collapsed_sections": [],
   "name": "LogisticRegression_draft4.ipynb",
   "provenance": [],
   "toc_visible": true
  },
  "kernelspec": {
   "display_name": "Python 3",
   "language": "python",
   "name": "python3"
  },
  "language_info": {
   "codemirror_mode": {
    "name": "ipython",
    "version": 3
   },
   "file_extension": ".py",
   "mimetype": "text/x-python",
   "name": "python",
   "nbconvert_exporter": "python",
   "pygments_lexer": "ipython3",
   "version": "3.6.9"
  }
 },
 "nbformat": 4,
 "nbformat_minor": 1
}
