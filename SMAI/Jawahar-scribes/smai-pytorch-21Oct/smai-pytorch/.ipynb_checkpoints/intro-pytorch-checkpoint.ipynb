{
 "cells": [
  {
   "cell_type": "markdown",
   "metadata": {},
   "source": [
    "# Intro to PyTorch"
   ]
  },
  {
   "cell_type": "markdown",
   "metadata": {},
   "source": [
    "### Setting it up\n",
    "Installation: Visit https://pytorch.org/ and Navigate to Quick Start <br>\n",
    "Tutorials: https://pytorch.org/tutorials/"
   ]
  },
  {
   "cell_type": "markdown",
   "metadata": {},
   "source": [
    "## PyTorch\n",
    "A python package that provides:\n",
    "- Tensor computation (like numpy) with strong GPU acceleration\n",
    "- Deep Neural Networks built on autodiff system"
   ]
  },
  {
   "cell_type": "code",
   "execution_count": 1,
   "metadata": {},
   "outputs": [
    {
     "name": "stdout",
     "output_type": "stream",
     "text": [
      "0.4.1.post2\n"
     ]
    }
   ],
   "source": [
    "import torch\n",
    "print(torch.__version__)"
   ]
  },
  {
   "cell_type": "markdown",
   "metadata": {},
   "source": [
    "### Important Packages\n",
    "![alt text](images/torch-pkg.png)"
   ]
  },
  {
   "cell_type": "markdown",
   "metadata": {},
   "source": [
    "### Tensor\n",
    "\n",
    "Nd Arrays<br>\n",
    "![alt text](images/tensors.png)"
   ]
  },
  {
   "cell_type": "code",
   "execution_count": 2,
   "metadata": {},
   "outputs": [
    {
     "name": "stdout",
     "output_type": "stream",
     "text": [
      "tensor([[1., 2.],\n",
      "        [3., 4.]])\n",
      "torch.Size([2, 2])\n",
      "torch.float32\n"
     ]
    }
   ],
   "source": [
    "a = torch.tensor([[1,2.0],[3,4]])\n",
    "print(a)\n",
    "print(a.size())\n",
    "print(a.dtype)"
   ]
  },
  {
   "cell_type": "code",
   "execution_count": 3,
   "metadata": {},
   "outputs": [
    {
     "name": "stdout",
     "output_type": "stream",
     "text": [
      "tensor([[0.0522, 0.8194, 0.5549, 0.2810],\n",
      "        [0.0739, 0.1265, 0.8984, 0.3851],\n",
      "        [0.0079, 0.6148, 0.5545, 0.7026]])\n"
     ]
    }
   ],
   "source": [
    "a = torch.rand((3,4))\n",
    "print(a)"
   ]
  },
  {
   "cell_type": "markdown",
   "metadata": {},
   "source": [
    "### Numpy Bridge"
   ]
  },
  {
   "cell_type": "code",
   "execution_count": 4,
   "metadata": {},
   "outputs": [
    {
     "name": "stdout",
     "output_type": "stream",
     "text": [
      "[[0.54516928 0.27082758 0.05195732]\n",
      " [0.16462538 0.13120227 0.84227763]\n",
      " [0.65275215 0.34399059 0.80054927]]\n",
      "tensor([[0.5452, 0.2708, 0.0520],\n",
      "        [0.1646, 0.1312, 0.8423],\n",
      "        [0.6528, 0.3440, 0.8005]], dtype=torch.float64)\n",
      "[[0.54516928 0.27082758 0.05195732]\n",
      " [0.16462538 0.13120227 0.84227763]\n",
      " [0.65275215 0.34399059 0.80054927]]\n"
     ]
    }
   ],
   "source": [
    "import numpy as np\n",
    "\n",
    "#Numpy to Torch\n",
    "a = np.random.random((3,3))\n",
    "print(a)\n",
    "b = torch.from_numpy(a)\n",
    "print(b)\n",
    "\n",
    "#Torch to Numpy\n",
    "c = b.numpy()\n",
    "print(c)"
   ]
  },
  {
   "cell_type": "markdown",
   "metadata": {},
   "source": [
    "### CUDA Tensors"
   ]
  },
  {
   "cell_type": "code",
   "execution_count": 5,
   "metadata": {},
   "outputs": [
    {
     "data": {
      "text/plain": [
       "True"
      ]
     },
     "execution_count": 5,
     "metadata": {},
     "output_type": "execute_result"
    }
   ],
   "source": [
    "torch.cuda.is_available()"
   ]
  },
  {
   "cell_type": "code",
   "execution_count": 6,
   "metadata": {},
   "outputs": [
    {
     "name": "stdout",
     "output_type": "stream",
     "text": [
      "tensor([[0.6973, 0.8550, 1.5883],\n",
      "        [0.7817, 0.2000, 1.4163],\n",
      "        [1.2190, 1.1186, 1.1453]], device='cuda:0')\n",
      "tensor([[0.6973, 0.8550, 1.5883],\n",
      "        [0.7817, 0.2000, 1.4163],\n",
      "        [1.2190, 1.1186, 1.1453]])\n"
     ]
    }
   ],
   "source": [
    "a = torch.rand(3,3)\n",
    "if torch.cuda.is_available():\n",
    "    device = torch.device(\"cuda\")\n",
    "    a = a.to(device)\n",
    "    # or #\n",
    "    b = torch.rand(3,3, device=device)\n",
    "    \n",
    "    c = a + b\n",
    "    print(c)\n",
    "    # or #\n",
    "    print(c.to(\"cpu\"))"
   ]
  },
  {
   "cell_type": "markdown",
   "metadata": {},
   "source": [
    "### Autograd Mechanics\n",
    "Autograd package provide the automatic differentiation capability to all operations on tensor. It is a define-by-run framework, which means that your backprop is defined by how your code is run, and that every single iteration can be different."
   ]
  },
  {
   "cell_type": "code",
   "execution_count": 7,
   "metadata": {},
   "outputs": [
    {
     "name": "stdout",
     "output_type": "stream",
     "text": [
      "False\n"
     ]
    }
   ],
   "source": [
    "a = torch.rand(3,3)\n",
    "print(a.requires_grad)"
   ]
  },
  {
   "cell_type": "code",
   "execution_count": 8,
   "metadata": {},
   "outputs": [
    {
     "name": "stdout",
     "output_type": "stream",
     "text": [
      "True\n",
      "tensor([[0.0370, 0.7801, 0.0160],\n",
      "        [0.9745, 0.3938, 0.5099],\n",
      "        [0.6829, 0.2022, 0.8791]], requires_grad=True)\n",
      "None\n"
     ]
    }
   ],
   "source": [
    "#Start tracking all operations on the tensor\n",
    "a.requires_grad = True\n",
    "print(a.requires_grad)\n",
    "\n",
    "a = torch.rand((3,3),requires_grad=True)\n",
    "print(a)\n",
    "print(a.grad)"
   ]
  },
  {
   "cell_type": "markdown",
   "metadata": {},
   "source": [
    "#### Computational Graph (DAG)\n",
    "\n",
    "Let's take an example:<br><br>\n",
    "$y = x + 2$ <br>\n",
    "$z = 3y^2$<br>\n",
    "$o = \\frac{1}{4}\\sum_i z_i$<br>\n",
    "\n",
    "Let $x=\n",
    "\\begin{bmatrix}\n",
    "2 & 2\\\\\n",
    "2 & 2\n",
    "\\end{bmatrix}$"
   ]
  },
  {
   "cell_type": "code",
   "execution_count": 9,
   "metadata": {},
   "outputs": [
    {
     "name": "stdout",
     "output_type": "stream",
     "text": [
      "tensor([[2., 2.],\n",
      "        [2., 2.]], requires_grad=True)\n",
      "tensor([[4., 4.],\n",
      "        [4., 4.]], grad_fn=<AddBackward>)\n",
      "tensor([[48., 48.],\n",
      "        [48., 48.]], grad_fn=<MulBackward>) tensor(48., grad_fn=<MeanBackward1>)\n"
     ]
    }
   ],
   "source": [
    "x = torch.tensor([[2.0, 2.0],[2.0, 2.0]], requires_grad=True)\n",
    "print(x)\n",
    "\n",
    "y = x + 2\n",
    "print(y)\n",
    "\n",
    "z = y * y * 3\n",
    "\n",
    "out = z.mean()\n",
    "\n",
    "print(z, out)"
   ]
  },
  {
   "cell_type": "code",
   "execution_count": 10,
   "metadata": {},
   "outputs": [
    {
     "data": {
      "text/plain": [
       "True"
      ]
     },
     "execution_count": 10,
     "metadata": {},
     "output_type": "execute_result"
    }
   ],
   "source": [
    "z.requires_grad"
   ]
  },
  {
   "cell_type": "code",
   "execution_count": 11,
   "metadata": {},
   "outputs": [],
   "source": [
    "#back prop\n",
    "out.backward()"
   ]
  },
  {
   "cell_type": "code",
   "execution_count": 12,
   "metadata": {},
   "outputs": [
    {
     "name": "stdout",
     "output_type": "stream",
     "text": [
      "tensor([[6., 6.],\n",
      "        [6., 6.]])\n"
     ]
    }
   ],
   "source": [
    "print(x.grad)"
   ]
  },
  {
   "cell_type": "code",
   "execution_count": null,
   "metadata": {},
   "outputs": [],
   "source": []
  }
 ],
 "metadata": {
  "kernelspec": {
   "display_name": "Python 3",
   "language": "python",
   "name": "python3"
  },
  "language_info": {
   "codemirror_mode": {
    "name": "ipython",
    "version": 3
   },
   "file_extension": ".py",
   "mimetype": "text/x-python",
   "name": "python",
   "nbconvert_exporter": "python",
   "pygments_lexer": "ipython3",
   "version": "3.5.5"
  },
  "widgets": {
   "state": {},
   "version": "1.1.2"
  }
 },
 "nbformat": 4,
 "nbformat_minor": 2
}
